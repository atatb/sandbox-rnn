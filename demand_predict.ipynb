{
 "cells": [
  {
   "cell_type": "code",
   "execution_count": null,
   "metadata": {},
   "outputs": [],
   "source": [
    "import pandas as pd\n",
    "%matplotlib inline\n",
    "df = pd.read_csv('./wifi/application.csv', usecols=[0,1], engine='python', skipfooter=0)\n",
    "df.plot()"
   ]
  },
  {
   "cell_type": "code",
   "execution_count": null,
   "metadata": {
    "scrolled": true
   },
   "outputs": [],
   "source": [
    "import numpy as np\n",
    "import pandas as pd\n",
    "import tflearn\n",
    "import matplotlib.pyplot as plt\n",
    "dataframe = pd.read_csv('./wifi/application.csv',\n",
    "        usecols=[1],\n",
    "        engine='python',\n",
    "        skipfooter=0)\n",
    "dataset = dataframe.values\n",
    "dataset = dataset.astype('float32')"
   ]
  },
  {
   "cell_type": "code",
   "execution_count": null,
   "metadata": {},
   "outputs": [],
   "source": [
    "dataset -= np.min(np.abs(dataset))\n",
    "dataset /= np.max(np.abs(dataset))"
   ]
  },
  {
   "cell_type": "code",
   "execution_count": null,
   "metadata": {},
   "outputs": [],
   "source": [
    "def create_dataset(dataset, steps_of_history, steps_in_future):\n",
    "    X, Y = [], []\n",
    "    for i in range(0, len(dataset)-steps_of_history, steps_in_future):\n",
    "        X.append(dataset[i:i+steps_of_history])\n",
    "        Y.append(dataset[i + steps_of_history])\n",
    "    X = np.reshape(np.array(X), [-1, steps_of_history, 1])\n",
    "    Y = np.reshape(np.array(Y), [-1, 1])\n",
    "    return X, Y\n",
    "\n",
    "def split_data(x, y, test_size=0.1):\n",
    "    pos = round(len(x) * (1 - test_size))\n",
    "    trainX, trainY = x[:pos], y[:pos]\n",
    "    testX, testY   = x[pos:], y[pos:]\n",
    "    return trainX, trainY, testX, testY\n",
    "\n",
    "steps_of_history = 1\n",
    "steps_in_future = 1\n",
    "\n",
    "X, Y = create_dataset(dataset, steps_of_history, steps_in_future)\n",
    "trainX, trainY, testX, testY = split_data(X, Y, 0.1)"
   ]
  },
  {
   "cell_type": "code",
   "execution_count": null,
   "metadata": {
    "scrolled": false
   },
   "outputs": [],
   "source": [
    "net = tflearn.input_data(shape=[None, steps_of_history, 1])\n",
    "net = tflearn.lstm(net, n_units=6)\n",
    "# net = tflearn.gru(net, n_units=6, return_seq=True)\n",
    "# net = tflearn.gru(net, n_units=6)\n",
    "net = tflearn.fully_connected(net, 1, activation='linear')\n",
    "net = tflearn.regression(net, optimizer='adam', learning_rate=0.001, loss='mean_square')\n",
    "\n",
    "model = tflearn.DNN(net, tensorboard_verbose=0)\n",
    "model.fit(trainX, trainY, validation_set=0.1, batch_size=1, n_epoch=100)"
   ]
  },
  {
   "cell_type": "code",
   "execution_count": null,
   "metadata": {},
   "outputs": [],
   "source": [
    "testX2 = np.reshape(np.array(testX), [-1, 1, 1])"
   ]
  },
  {
   "cell_type": "code",
   "execution_count": null,
   "metadata": {},
   "outputs": [],
   "source": [
    "score = model.evaluate(testX2, testY)\n",
    "score"
   ]
  },
  {
   "cell_type": "code",
   "execution_count": null,
   "metadata": {},
   "outputs": [],
   "source": [
    "train_predict = model.predict(trainX)\n",
    "test_predict = model.predict(testX)\n",
    "\n",
    "train_predict_plot = np.empty_like(dataset)\n",
    "train_predict_plot[:, :] = np.nan\n",
    "train_predict_plot[steps_of_history:len(train_predict)+steps_of_history, :] = train_predict\n",
    "\n",
    "test_predict_plot = np.empty_like(dataset)\n",
    "test_predict_plot[:, :] = np.nan\n",
    "test_predict_plot[len(train_predict)+steps_of_history:len(dataset), :] = test_predict\n",
    "\n",
    "plt.figure(figsize=(20, 10))\n",
    "plt.title('History={} Future={}'.format(steps_of_history, steps_in_future))\n",
    "plt.plot(dataset, color='blue', label=\"dataset\")\n",
    "plt.plot(train_predict_plot, color='green', label=\"train_predict\")\n",
    "plt.plot(test_predict_plot, color='red', label=\"test_predict\")\n",
    "plt.legend(ncol=3, mode=\"expand\")\n",
    "plt.savefig('wifi.png')"
   ]
  },
  {
   "cell_type": "code",
   "execution_count": null,
   "metadata": {},
   "outputs": [],
   "source": [
    "train_predict"
   ]
  },
  {
   "cell_type": "code",
   "execution_count": null,
   "metadata": {},
   "outputs": [],
   "source": [
    "dataset"
   ]
  },
  {
   "cell_type": "code",
   "execution_count": null,
   "metadata": {},
   "outputs": [],
   "source": [
    "# 平均二乗平方根誤差\n",
    "def rmse(y_pred, y_true):\n",
    "    return np.sqrt(((y_true - y_pred) ** 2).mean())\n",
    "\n",
    "def rmsle(y_pred, y_true):\n",
    "    return np.sqrt(np.square(np.log(y_true + 1) - np.log(y_pred + 1)).mean())\n",
    "\n",
    "# 平均絶対誤差\n",
    "def mae(y_pred, y_true):\n",
    "    return np.mean(np.abs((y_true - y_pred)))\n",
    "\n",
    "# 平均絶対誤差率\n",
    "def mape(y_pred, y_true):\n",
    "    return np.mean(np.abs((y_true - y_pred) / y_true)) * 100"
   ]
  },
  {
   "cell_type": "code",
   "execution_count": null,
   "metadata": {},
   "outputs": [],
   "source": [
    "trainX = np.reshape(np.array(trainX), [-1, 1])\n",
    "testX = np.reshape(np.array(testX), [-1, 1])\n",
    "delta = 1e-10"
   ]
  },
  {
   "cell_type": "markdown",
   "metadata": {},
   "source": [
    "----\n",
    "### 訓練データ"
   ]
  },
  {
   "cell_type": "code",
   "execution_count": null,
   "metadata": {},
   "outputs": [],
   "source": [
    "len(trainX)"
   ]
  },
  {
   "cell_type": "code",
   "execution_count": null,
   "metadata": {},
   "outputs": [],
   "source": [
    "len(train_predict)"
   ]
  },
  {
   "cell_type": "code",
   "execution_count": null,
   "metadata": {
    "scrolled": true
   },
   "outputs": [],
   "source": [
    "rmse_train = rmse(train_predict, trainX)"
   ]
  },
  {
   "cell_type": "code",
   "execution_count": null,
   "metadata": {},
   "outputs": [],
   "source": [
    "mae_train = mae(train_predict, trainX)"
   ]
  },
  {
   "cell_type": "code",
   "execution_count": null,
   "metadata": {},
   "outputs": [],
   "source": [
    "mape_train = mape(train_predict[1:], trainX[1:])"
   ]
  },
  {
   "cell_type": "markdown",
   "metadata": {},
   "source": [
    "----\n",
    "### テストデータ"
   ]
  },
  {
   "cell_type": "code",
   "execution_count": null,
   "metadata": {
    "scrolled": true
   },
   "outputs": [],
   "source": [
    "rmse_test = rmse(test_predict, testX)"
   ]
  },
  {
   "cell_type": "code",
   "execution_count": null,
   "metadata": {
    "scrolled": true
   },
   "outputs": [],
   "source": [
    "mae_test = mae(test_predict, testX)"
   ]
  },
  {
   "cell_type": "code",
   "execution_count": null,
   "metadata": {},
   "outputs": [],
   "source": [
    "mape_test = mape(test_predict, testX)"
   ]
  },
  {
   "cell_type": "markdown",
   "metadata": {},
   "source": [
    "----\n",
    "##### テストデータ 直近のみ"
   ]
  },
  {
   "cell_type": "code",
   "execution_count": null,
   "metadata": {},
   "outputs": [],
   "source": [
    "test_predict_last05 = test_predict[1:7]\n",
    "testX_last05 = testX[1:7]\n",
    "test_predict_last10 = test_predict[1:10]\n",
    "testX_last10 = testX[1:10]"
   ]
  },
  {
   "cell_type": "code",
   "execution_count": null,
   "metadata": {},
   "outputs": [],
   "source": [
    "rmse_test_last05 = rmse(test_predict_last05, testX_last05)\n",
    "rmse_test_last10 = rmse(test_predict_last10, testX_last10)"
   ]
  },
  {
   "cell_type": "code",
   "execution_count": null,
   "metadata": {},
   "outputs": [],
   "source": [
    "mae_test_last05 = mae(test_predict_last05, testX_last05)\n",
    "mae_test_last10 = mae(test_predict_last10, testX_last10)"
   ]
  },
  {
   "cell_type": "code",
   "execution_count": null,
   "metadata": {},
   "outputs": [],
   "source": [
    "mape_test_last05 = mape(test_predict_last05, testX_last05)\n",
    "mape_test_last10 = mape(test_predict_last10, testX_last10)"
   ]
  },
  {
   "cell_type": "markdown",
   "metadata": {},
   "source": [
    "----"
   ]
  },
  {
   "cell_type": "code",
   "execution_count": null,
   "metadata": {},
   "outputs": [],
   "source": [
    "print(rmse_train, rmse_test, rmse_test_last10, rmse_test_last05)\n",
    "print(mae_train, mae_test, mae_test_last10, mae_test_last05)\n",
    "print(mape_train, mape_test, mape_test_last10, mape_test_last05)"
   ]
  },
  {
   "cell_type": "code",
   "execution_count": null,
   "metadata": {
    "scrolled": false
   },
   "outputs": [],
   "source": [
    "for m in range(0, 3): # 3 months\n",
    "    m_p = np.concatenate((test_predict[m*4*7:(m+1)*4*7]))\n",
    "    m_t = np.concatenate((testX[m*4*7:(m+1)*4*7]))\n",
    "    print('month-%02d' % (m+1), ':', mape(m_p, m_t))\n",
    "for w in range(0, 3*4): # 3 months * 4 weeks\n",
    "    w_p = np.concatenate((test_predict[w*7:(w+1)*7]))\n",
    "    w_t = np.concatenate((testX[w*7:(w+1)*7]))\n",
    "    print('week-%02d' % (w+1), ':', mape(w_p, w_t))\n",
    "for d in range(3*4*7): # 3 months * 4 weeks * 7 days\n",
    "    print('day-%02d' % (d+1), ':', mape(test_predict[d], testX[d])) "
   ]
  }
 ],
 "metadata": {
  "kernelspec": {
   "display_name": "Python 3",
   "language": "python",
   "name": "python3"
  },
  "language_info": {
   "codemirror_mode": {
    "name": "ipython",
    "version": 3
   },
   "file_extension": ".py",
   "mimetype": "text/x-python",
   "name": "python",
   "nbconvert_exporter": "python",
   "pygments_lexer": "ipython3",
   "version": "3.6.4"
  }
 },
 "nbformat": 4,
 "nbformat_minor": 2
}
